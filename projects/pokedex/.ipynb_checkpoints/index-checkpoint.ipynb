{
 "cells": [
  {
   "cell_type": "raw",
   "id": "3854b868-c9cb-4e81-a63d-a2d3281d6589",
   "metadata": {},
   "source": [
    "---\n",
    "title: \"PokeDex: Categorization App\"\n",
    "author: Steele Estes\n",
    "date: 2023-06-25\n",
    "categories: [code, project]\n",
    "---"
   ]
  },
  {
   "cell_type": "code",
   "execution_count": 1,
   "id": "12024e52-31b3-406c-8c93-9113fd41d5a3",
   "metadata": {},
   "outputs": [
    {
     "name": "stdout",
     "output_type": "stream",
     "text": [
      "placeholder\n"
     ]
    }
   ],
   "source": [
    "print(\"placeholder\")"
   ]
  },
  {
   "cell_type": "code",
   "execution_count": null,
   "id": "dbb8877b-d704-495b-b333-7b5cc3a7b428",
   "metadata": {},
   "outputs": [],
   "source": []
  }
 ],
 "metadata": {
  "kernelspec": {
   "display_name": "Python 3 (ipykernel)",
   "language": "python",
   "name": "python3"
  },
  "language_info": {
   "codemirror_mode": {
    "name": "ipython",
    "version": 3
   },
   "file_extension": ".py",
   "mimetype": "text/x-python",
   "name": "python",
   "nbconvert_exporter": "python",
   "pygments_lexer": "ipython3",
   "version": "3.11.4"
  }
 },
 "nbformat": 4,
 "nbformat_minor": 5
}
