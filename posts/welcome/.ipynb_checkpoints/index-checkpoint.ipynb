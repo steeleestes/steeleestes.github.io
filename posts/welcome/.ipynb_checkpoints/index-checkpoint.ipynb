{
 "cells": [
  {
   "cell_type": "raw",
   "id": "8807c01e-97a1-4a01-91ca-6dafd56d500a",
   "metadata": {},
   "source": [
    "---\n",
    "title: \"Hello World!\"\n",
    "author: \"Steele Estes\"\n",
    "date: \"2023-07-01\"\n",
    "categories: [discussion]\n",
    "---"
   ]
  },
  {
   "cell_type": "markdown",
   "id": "da664bd4-9b2e-4e58-a934-0da513e4fd94",
   "metadata": {},
   "source": [
    "This is the first post in a Quarto blog. Welcome!\n",
    "\n",
    "I appreciate you taking the time to click and read. I have plans to use this platform as a place to help anyone out there that, like myself, has not had the best experience with formal education but has a thirst and a passion for learning. I intend to cover my own projects, the successes and the pitfalls, but also community resources, focusing on free and open source, as well as troubleshooting and technical learning I have done in building my own system at home for training models and building apps.\n",
    "\n",
    "Good luck to everyone else out there on this journey, I hope to meet or work with many of you some day. I am truly excited to be able to live in a time when the development of something as powerful and interesting as AI is current and so as-of-yet undiscovered, it really feels like this is just the beginning for this technology and I cannot wait to see where it goes.\n"
   ]
  },
  {
   "cell_type": "code",
   "execution_count": null,
   "id": "a993d214-ad7a-4252-8773-cdb06e51d6bb",
   "metadata": {},
   "outputs": [],
   "source": []
  }
 ],
 "metadata": {
  "kernelspec": {
   "display_name": "Python 3 (ipykernel)",
   "language": "python",
   "name": "python3"
  },
  "language_info": {
   "codemirror_mode": {
    "name": "ipython",
    "version": 3
   },
   "file_extension": ".py",
   "mimetype": "text/x-python",
   "name": "python",
   "nbconvert_exporter": "python",
   "pygments_lexer": "ipython3",
   "version": "3.11.4"
  }
 },
 "nbformat": 4,
 "nbformat_minor": 5
}
