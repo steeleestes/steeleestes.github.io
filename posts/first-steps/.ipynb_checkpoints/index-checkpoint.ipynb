{
 "cells": [
  {
   "cell_type": "raw",
   "id": "01da8896-eea0-4463-9186-f21ec041687c",
   "metadata": {},
   "source": [
    "---\n",
    "title: \"First Steps, The Setup\"\n",
    "author: \"Steele Estes\"\n",
    "date: \"2023-07-02\"\n",
    "categories: [code, analysis]\n",
    "image: \"image.jpg\"\n",
    "draft: true\n",
    "---"
   ]
  },
  {
   "cell_type": "markdown",
   "id": "a38a908c-54dd-4b05-9217-b73c6e7e9421",
   "metadata": {},
   "source": [
    "In my first real post here I mostly want to highlight some of the tools and resources that have helped me get started, from writing my first MLP from scratch to building completely original projects and experimenting with data set sizes, so much is possible with nothing more than access to the internet and a few free accounts. "
   ]
  },
  {
   "cell_type": "code",
   "execution_count": null,
   "id": "66038375-25ef-49a4-8417-e5169deeb2df",
   "metadata": {},
   "outputs": [],
   "source": []
  }
 ],
 "metadata": {
  "kernelspec": {
   "display_name": "Python 3 (ipykernel)",
   "language": "python",
   "name": "python3"
  },
  "language_info": {
   "codemirror_mode": {
    "name": "ipython",
    "version": 3
   },
   "file_extension": ".py",
   "mimetype": "text/x-python",
   "name": "python",
   "nbconvert_exporter": "python",
   "pygments_lexer": "ipython3",
   "version": "3.11.4"
  }
 },
 "nbformat": 4,
 "nbformat_minor": 5
}
