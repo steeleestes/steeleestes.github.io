{
 "cells": [
  {
   "cell_type": "raw",
   "id": "10f91745-401d-4953-8643-dbb697ba279b",
   "metadata": {},
   "source": [
    "---\n",
    "title: \"Troubleshooting A Real ML Dev Setup\"\n",
    "author: \"Steele Estes\"\n",
    "date: \"2023-07-03\"\n",
    "categories: [code, hardware, linux]\n",
    "\n",
    "draft: true\n",
    "---"
   ]
  },
  {
   "cell_type": "markdown",
   "id": "584da06c-f57b-498c-9e84-d8bf2d39bccc",
   "metadata": {},
   "source": [
    "TLDR Problem: I started training more than toy models and Kaggle free CPUs were taking 40+ minutes to get through a 4 epoch transfer learning pass just using resnet18.\n",
    "\n",
    "TLDR Solution: Fedora 38, RPM Fusion Drivers, a 3070ti, everything running locally on CUDA. "
   ]
  },
  {
   "cell_type": "markdown",
   "id": "ee98551f-c217-4547-b9ae-8becb1ae91ba",
   "metadata": {},
   "source": [
    "The interesting part of the solution isnt the setup or dependency list. Its getting it all to actually work. Fedora uses Wayland for its GUI rendering by defalt (for like, awhile now) but it still doesn't play that well with Nvidia drivers. If you want to really get some training done, though, you get to use Nvidia hardware, at least at the time of writing, it's not really close. So here is my write up and some screen shots of the problems I ran into and their solutions. Hopefully I can save someone else the trouble I had combing years old forum posts to figure out which combination of problems were happening all at the same time."
   ]
  },
  {
   "cell_type": "code",
   "execution_count": null,
   "id": "9014dafb-ba5d-4ffa-80b2-3e23e09fe3a1",
   "metadata": {},
   "outputs": [],
   "source": []
  }
 ],
 "metadata": {
  "kernelspec": {
   "display_name": "Python 3 (ipykernel)",
   "language": "python",
   "name": "python3"
  },
  "language_info": {
   "codemirror_mode": {
    "name": "ipython",
    "version": 3
   },
   "file_extension": ".py",
   "mimetype": "text/x-python",
   "name": "python",
   "nbconvert_exporter": "python",
   "pygments_lexer": "ipython3",
   "version": "3.11.4"
  }
 },
 "nbformat": 4,
 "nbformat_minor": 5
}
