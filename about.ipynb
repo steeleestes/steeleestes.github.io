{
 "cells": [
  {
   "cell_type": "raw",
   "id": "83d111e6-15ae-4eb1-ad77-197cc21aa2c5",
   "metadata": {},
   "source": [
    "---\n",
    "title: \"Who am I?\"\n",
    "image: profile.jpg\n",
    "about:\n",
    "  template: solana\n",
    "  links:\n",
    "    - text: Hugging Face\n",
    "      href: https://huggingface.co/krptk\n",
    "    - icon: linkedin\n",
    "      text: LinkedIn\n",
    "      href: https://linkedin.com\n",
    "    - icon: github\n",
    "      text: Github\n",
    "      href: https://github.com/steeleestes\n",
    "\n",
    "---"
   ]
  },
  {
   "cell_type": "markdown",
   "id": "6cc9e4e7-dd3f-4ea8-9bd3-7c9203ee6c48",
   "metadata": {},
   "source": [
    "## History\n",
    "\n",
    "I started my career while a student of Mathematics in University. I left school early to work in politics as an analyst when I realized no one in the area I lived was doing anything with even the most basic of data. During this time I ended up building a very simple neural network in Excel to apply to a relatively complex model I devised. Since I was just working on intuition at the time and, frankly, didn't know what a neural network really was, there was no learner and I was tuning the weights and biases by hand. Clumsiness aside it worked and I was able to beat traditional state-of-the-art techniques and predict exact (within 1% of final in multiple different races) election results a little more than a month in advance. When Covid happened I decided it was time to take a step back and formalize my knowledge."
   ]
  },
  {
   "cell_type": "markdown",
   "id": "43e752cb-1989-480b-a2e9-130bfc118ce6",
   "metadata": {},
   "source": [
    "## Now\n",
    "\n",
    "I started by learning front end dev. This always felt more like a means to an end rather than a place to stop itself so I jumped back into data. I picked up Pandas and SQL and started doing simple data analytics and visualization. A few example Kaggle notebooks later and it just wasn't what I wanted. Thats when I really fell into the rabbit hole. I found Andrej Karpathy on YouTube when looking for a more technical and modern approach to large data. I had seen the top solutions almost always using some kind of ML model and knew that was the direction I would have to go. Having a background in math I was hoping for a more in depth explanation and I still haven't really found a single person that done an all-around better job at really teaching the ideas behind ML than Andrej. Watching his videos and doing more research led me to the CS231n Stanford videos and then to the last pieces of the puzzle I needed to really start building things for myself, Jeremy Howard, fast.ai, and Hugging Face. What you see here is a result of the learning resources that those sources provided me. This is an amazing community and I hope to be able to contribute back to it myself some day. Links for everything below and a huge thank you to those who have made the decision to make this knowledge freely available to those who would seek it. "
   ]
  },
  {
   "cell_type": "markdown",
   "id": "82482918-3478-40c6-9ccd-ee5f7caa07d7",
   "metadata": {},
   "source": [
    "### References and Links\n",
    "\n",
    "- hf\n",
    "- fast.ai\n",
    "- kaggle\n",
    "- andrej youtube\n",
    "- quarto\n",
    "- jupyter lab"
   ]
  },
  {
   "cell_type": "code",
   "execution_count": null,
   "id": "c59ee8d4-e6e9-48ad-b9bc-ae9ae5f683e4",
   "metadata": {},
   "outputs": [],
   "source": []
  }
 ],
 "metadata": {
  "kernelspec": {
   "display_name": "Python 3 (ipykernel)",
   "language": "python",
   "name": "python3"
  },
  "language_info": {
   "codemirror_mode": {
    "name": "ipython",
    "version": 3
   },
   "file_extension": ".py",
   "mimetype": "text/x-python",
   "name": "python",
   "nbconvert_exporter": "python",
   "pygments_lexer": "ipython3",
   "version": "3.11.4"
  }
 },
 "nbformat": 4,
 "nbformat_minor": 5
}
